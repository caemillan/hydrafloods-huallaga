{
 "cells": [
  {
   "attachments": {},
   "cell_type": "markdown",
   "metadata": {},
   "source": [
    "# Hydrafloods"
   ]
  },
  {
   "attachments": {},
   "cell_type": "markdown",
   "metadata": {},
   "source": [
    "## Ejemplo Huallaga"
   ]
  },
  {
   "attachments": {},
   "cell_type": "markdown",
   "metadata": {},
   "source": [
    "### Importando librerias e información"
   ]
  },
  {
   "cell_type": "code",
   "execution_count": 1,
   "metadata": {},
   "outputs": [],
   "source": [
    "# import the hydrafloods and ee package\n",
    "import hydrafloods as hf\n",
    "import ee\n",
    "ee.Initialize()"
   ]
  },
  {
   "cell_type": "code",
   "execution_count": 2,
   "metadata": {},
   "outputs": [
    {
     "name": "stdout",
     "output_type": "stream",
     "text": [
      "d:\\Hydraflood\\Huallaga\n"
     ]
    }
   ],
   "source": [
    "import os\n",
    "directory = os.path.abspath('.') \n",
    "print(directory) "
   ]
  },
  {
   "attachments": {},
   "cell_type": "markdown",
   "metadata": {},
   "source": [
    "#### Eventos historicos\n",
    "Se identificaron por periodos, para analizar la variabildad espacio-temporal."
   ]
  },
  {
   "cell_type": "code",
   "execution_count": 3,
   "metadata": {},
   "outputs": [],
   "source": [
    "# Inundaciones en Tingo María\n",
    "# https://elcomercio.pe/peru/huanuco/lluvias-tingo-maria-dejan-cien-familias-damnificadas-295832-noticia/ no se encontraron imagenes para la fecha de 2014\n",
    "\n",
    "# Sentinel 1 tiene información desde 03 de abril de 2014\n",
    "# specify start and end time as well as geographic region to process\n",
    "#Evento 1\n",
    "#start_time = \"2015-04-10\"\n",
    "#end_time =  \"2015-10-01\"\n",
    "#Evento 2\n",
    "#start_time = \"2016-01-01\"\n",
    "#end_time =  \"2016-03-31\"\n",
    "#Evento 3\n",
    "#start_time = \"2016-04-01\"\n",
    "#end_time =  \"2016-10-31\"\n",
    "#Evento 4\n",
    "# https://elpopular.pe/actualidad-y-policiales/259568-huanuco-rio-desborda-intensas-lluvias-desaparece-joven-tingo-maria-policia-video\n",
    "start_time = \"2021-02-10\"\n",
    "end_time =  \"2021-02-28\"\n",
    "\n",
    "# region = ee.Geometry.Rectangle([-76.024891,  -9.343222, -75.983438,  -9.275245 ])\n",
    "region = ee.Geometry.Rectangle([-76.030416,  -9.343747, -75.975255,  -9.271063 ])"
   ]
  },
  {
   "cell_type": "code",
   "execution_count": 4,
   "metadata": {},
   "outputs": [
    {
     "data": {
      "text/plain": [
       "hydrafloods.datasets.Sentinel1"
      ]
     },
     "execution_count": 4,
     "metadata": {},
     "output_type": "execute_result"
    }
   ],
   "source": [
    "# get the Sentinel-1 collection\n",
    "# the hf.dataset classes performs the spatial-temporal filtering for you\n",
    "s1 = hf.datasets.Sentinel1(region, start_time, end_time)\n",
    "type(s1)"
   ]
  },
  {
   "attachments": {},
   "cell_type": "markdown",
   "metadata": {},
   "source": [
    "#### \"Edge Otsu\" algorithm\n",
    "\n",
    "La aplicación HYDRAFloods incluye dentro de su modulo de umbrales 3 algoritmos genericos de mapeo de agua superficial:\n",
    "* Edge Otsu: hydrafloods.edge_otsu ([Donchyts et al., 2016](https://doi.org/10.3390/rs8050386); [Markert et al., 2020](https://doi.org/10.3390/rs12152469))\n",
    "* Bmax Otsu: hydrafloods.bmax_otsu ([Cao et al., 2019](https://doi.org/10.3390/w11040786); [Markert et al., 2020](https://doi.org/10.3390/rs12152469))\n",
    "* Extensión de KMeans: hydrafloods.kmeans_extent([Chang et al., 2020](https://doi.org/10.1016/j.rse.2020.111732))"
   ]
  },
  {
   "cell_type": "code",
   "execution_count": 5,
   "metadata": {},
   "outputs": [
    {
     "data": {
      "text/plain": [
       "hydrafloods.datasets.Sentinel1"
      ]
     },
     "execution_count": 5,
     "metadata": {},
     "output_type": "execute_result"
    }
   ],
   "source": [
    "# apply a water mapping function to the S1 dataset\n",
    "# this applies the \"Edge Otsu\" algorithm from https://doi.org/10.3390/rs12152469\n",
    "water_imgs = s1.apply_func(\n",
    "    hf.thresholding.edge_otsu,\n",
    "    initial_threshold=-14,\n",
    "    thresh_no_data=-20,\n",
    "    edge_buffer=300\n",
    ")\n",
    "type(water_imgs)"
   ]
  },
  {
   "cell_type": "code",
   "execution_count": 6,
   "metadata": {},
   "outputs": [
    {
     "data": {
      "text/plain": [
       "<ee.image.Image at 0x2ccfae3c1d0>"
      ]
     },
     "execution_count": 6,
     "metadata": {},
     "output_type": "execute_result"
    }
   ],
   "source": [
    "# take the mode from multiple images\n",
    "# since this is just imagery from one day, it will simply mosaic the images\n",
    "water_map = ee.Image(water_imgs.collection.mode())\n",
    "water_map"
   ]
  },
  {
   "attachments": {},
   "cell_type": "markdown",
   "metadata": {},
   "source": [
    "##### Mapa EE"
   ]
  },
  {
   "cell_type": "code",
   "execution_count": 7,
   "metadata": {},
   "outputs": [],
   "source": [
    "#!pip install geemap\n",
    "import geemap\n",
    "#water_map"
   ]
  },
  {
   "cell_type": "code",
   "execution_count": 8,
   "metadata": {},
   "outputs": [
    {
     "data": {
      "application/vnd.jupyter.widget-view+json": {
       "model_id": "9c5cf800015048dd9d0f16e0b80b5e38",
       "version_major": 2,
       "version_minor": 0
      },
      "text/plain": [
       "Map(center=[-9.307404800192744, -76.00283550000388], controls=(WidgetControl(options=['position', 'transparent…"
      ]
     },
     "execution_count": 8,
     "metadata": {},
     "output_type": "execute_result"
    }
   ],
   "source": [
    "# Create a default map\n",
    "Map = geemap.Map()\n",
    "\n",
    "#Load an image.\n",
    "image = water_map #ee.Image('LANDSAT/LC08/C01/T1_TOA/LC08_044034_20140318')\n",
    "#Create an NDWI image, define visualization parameters and display.\n",
    "#ndwi = image.normalizedDifference(['B3', 'B5'])\n",
    "ndwiViz = {'min': 0,\n",
    "           'max': 1,\n",
    "           'palette': ['F2F2F2','fae7b5','318ce7','E6E600','E9BD3A','ECB176','EFC2B3','F2F2F2','318ce7'],\n",
    "           }\n",
    "Map.centerObject(region,12)  #setCenter(-122.1899, 37.5010, 10) # San Francisco Bay\n",
    "Map.addLayer(image,\n",
    "             ndwiViz,\n",
    "            'HYDRAFloods',\n",
    "            shown=True,\n",
    "            opacity=0.7\n",
    "             )#, False)\n",
    "\n",
    "# Display the map\n",
    "Map"
   ]
  },
  {
   "cell_type": "code",
   "execution_count": 9,
   "metadata": {},
   "outputs": [
    {
     "name": "stdout",
     "output_type": "stream",
     "text": [
      "Default extent and size: https://earthengine.googleapis.com/v1alpha/projects/earthengine-legacy/thumbnails/f3d745af540ab153e287b96f43b0ac1b-574014da61aba22fb81807512eb1643f:getPixels\n"
     ]
    }
   ],
   "source": [
    "#Load an image.\n",
    "image = water_map #ee.Image('LANDSAT/LC08/C01/T1_TOA/LC08_044034_20140318')\n",
    "\n",
    "# https://github.com/giswqs/earthengine-py-notebooks/blob/master/Image/image_visualization.ipynb\n",
    "\n",
    "# Request a default thumbnail of the DEM with defined linear stretch.\n",
    "# Set masked pixels (ocean) to 1000 so they map as gray.\n",
    "thumbnail1 = image.getThumbURL({\n",
    "  'min': 0,\n",
    "  'max': 1,\n",
    "  'dimensions': 500,\n",
    "  'crs': 'EPSG:32718',\n",
    "  'palette': ['F2F2F2','fae7b5','318ce7','E6E600','E9BD3A','ECB176','EFC2B3','F2F2F2','318ce7'],\n",
    "  'region': region,\n",
    "  #'region': ee.Geometry.Rectangle([103, 11.4, 107, 12.6 ])\n",
    "})\n",
    "print('Default extent and size:', thumbnail1)"
   ]
  },
  {
   "attachments": {},
   "cell_type": "markdown",
   "metadata": {},
   "source": [
    "##### Exportando a Asset de GEE"
   ]
  },
  {
   "cell_type": "code",
   "execution_count": 11,
   "metadata": {},
   "outputs": [],
   "source": [
    "# export the water map\n",
    "hf.geeutils.export_image(\n",
    "    water_map,\n",
    "    region,\n",
    "    #\"users/<YOUR_USERNAME>/water_map_example\",\n",
    "    asset_id=\"users/20200782/hydrafloods_output/water_map_huallaga2016\", #El username es el nombre de usuario de GEE\n",
    "    export_type='toAsset',\n",
    "    scale=30,\n",
    ")\n",
    "# Se demora en verlo reflejado en los Assets de GEE https://code.earthengine.google.com/\n",
    "#Hora de inicio 9:02"
   ]
  },
  {
   "attachments": {},
   "cell_type": "markdown",
   "metadata": {},
   "source": [
    "##### Exportando a Drive"
   ]
  },
  {
   "cell_type": "code",
   "execution_count": 12,
   "metadata": {},
   "outputs": [],
   "source": [
    "# export the water map\n",
    "hf.geeutils.export_image(\n",
    "    water_map,\n",
    "    region,\n",
    "    #\"users/<YOUR_USERNAME>/water_map_example\",\n",
    "    description=\"water_map_huallaga2016\", #El username es el nombre de usuario de GEE\n",
    "    export_type='toDrive',\n",
    "    scale=30,\n",
    "    folder=\"GEE_SENAMHI\"\n",
    ")\n",
    "# Se demora en verlo reflejado en los Assets de GEE https://code.earthengine.google.com/\n",
    "#Hora de inicio 3:18"
   ]
  },
  {
   "attachments": {},
   "cell_type": "markdown",
   "metadata": {},
   "source": [
    "### \"Fuzzy Otsu\" Algorithm Model"
   ]
  },
  {
   "cell_type": "code",
   "execution_count": 10,
   "metadata": {},
   "outputs": [
    {
     "data": {
      "text/plain": [
       "HYDRAFloods Dataset:\n",
       "{'asset_id': 'COPERNICUS/S1_GRD',\n",
       " 'end_time': '2021-02-28',\n",
       " 'name': 'Sentinel1',\n",
       " 'region': [[[...], [...], [...], [...], [...]]],\n",
       " 'start_time': '2021-02-10'}"
      ]
     },
     "execution_count": 10,
     "metadata": {},
     "output_type": "execute_result"
    }
   ],
   "source": [
    "# apply a water mapping function to the S1 dataset\n",
    "# this applies the \"Edge Otsu\" algorithm from https://doi.org/10.3390/rs12152469\n",
    "water_imgs_fuzzy_outsu = s1.apply_func(\n",
    "    hf.thresholding.fuzzy_otsu,\n",
    "    initial_threshold=-15.5,\n",
    ")\n",
    "water_imgs_fuzzy_outsu"
   ]
  },
  {
   "cell_type": "code",
   "execution_count": 11,
   "metadata": {},
   "outputs": [
    {
     "data": {
      "text/html": [
       "<div><style>:root {\n",
       "  --font-color-primary: var(--jp-content-font-color0, rgba(0, 0, 0, 1));\n",
       "  --font-color-secondary: var(--jp-content-font-color2, rgba(0, 0, 0, 0.6));\n",
       "  --font-color-accent: rgba(123, 31, 162, 1);\n",
       "  --border-color: var(--jp-border-color2, #e0e0e0);\n",
       "  --background-color: var(--jp-layout-color0, white);\n",
       "  --background-color-row-even: var(--jp-layout-color1, white);\n",
       "  --background-color-row-odd: var(--jp-layout-color2, #eeeeee);\n",
       "}\n",
       "\n",
       "html[theme=\"dark\"],\n",
       "body[data-theme=\"dark\"],\n",
       "body.vscode-dark {\n",
       "  --font-color-primary: rgba(255, 255, 255, 1);\n",
       "  --font-color-secondary: rgba(255, 255, 255, 0.6);\n",
       "  --font-color-accent: rgb(173, 132, 190);\n",
       "  --border-color: #2e2e2e;\n",
       "  --background-color: #111111;\n",
       "  --background-color-row-even: #111111;\n",
       "  --background-color-row-odd: #313131;\n",
       "}\n",
       "\n",
       ".ee {\n",
       "  padding: 1em;\n",
       "  line-height: 1.5em;\n",
       "  min-width: 300px;\n",
       "  max-width: 1200px;\n",
       "  overflow-y: scroll;\n",
       "  max-height: 600px;\n",
       "  border: 1px solid var(--border-color);\n",
       "  font-family: monospace;\n",
       "}\n",
       "\n",
       ".ee li {\n",
       "  list-style-type: none;\n",
       "}\n",
       "\n",
       ".ee ul {\n",
       "  padding-left: 1.5em !important;\n",
       "  margin: 0;\n",
       "}\n",
       "\n",
       ".ee > ul {\n",
       "  padding-left: 0 !important;\n",
       "}\n",
       "\n",
       ".ee-open,\n",
       ".ee-shut {\n",
       "  color: var(--font-color-secondary);\n",
       "  cursor: pointer;\n",
       "  margin: 0;\n",
       "}\n",
       "\n",
       ".ee-open:hover,\n",
       ".ee-shut:hover {\n",
       "  color: var(--font-color-primary);\n",
       "}\n",
       "\n",
       ".ee-k {\n",
       "  color: var(--font-color-accent);\n",
       "  margin-right: 6px;\n",
       "}\n",
       "\n",
       ".ee-v {\n",
       "  color: var(--font-color-primary);\n",
       "}\n",
       "\n",
       ".ee-toggle {\n",
       "  display: none;\n",
       "}\n",
       "\n",
       ".ee-shut + ul {\n",
       "  display: none;\n",
       "}\n",
       "\n",
       ".ee-open + ul {\n",
       "  display: block;\n",
       "}\n",
       "\n",
       ".ee-shut::before {\n",
       "  display: inline-block;\n",
       "  content: \"▼\";\n",
       "  margin-right: 6px;\n",
       "  transform: rotate(-90deg);\n",
       "  transition: transform 0.2s;\n",
       "}\n",
       "\n",
       ".ee-open::before {\n",
       "  transform: rotate(0deg);\n",
       "  display: inline-block;\n",
       "  content: \"▼\";\n",
       "  margin-right: 6px;\n",
       "  transition: transform 0.2s;\n",
       "}\n",
       "</style><div class='ee'><ul><li><label class='ee-shut'>Image (1 band)<input type='checkbox' class='ee-toggle'></label><ul><li><span class='ee-k'>type:</span><span class='ee-v'>Image</span></li><li><label class='ee-shut'>bands: List (1 element)<input type='checkbox' class='ee-toggle'></label><ul><li><label class='ee-shut'>0: \"VV\", double, EPSG:4326<input type='checkbox' class='ee-toggle'></label><ul><li><span class='ee-k'>id:</span><span class='ee-v'>VV</span></li><li><span class='ee-k'>crs:</span><span class='ee-v'>EPSG:4326</span></li><li><label class='ee-shut'>crs_transform: [1, 0, 0, 0, 1, 0]<input type='checkbox' class='ee-toggle'></label><ul><li><span class='ee-k'>0:</span><span class='ee-v'>1</span></li><li><span class='ee-k'>1:</span><span class='ee-v'>0</span></li><li><span class='ee-k'>2:</span><span class='ee-v'>0</span></li><li><span class='ee-k'>3:</span><span class='ee-v'>0</span></li><li><span class='ee-k'>4:</span><span class='ee-v'>1</span></li><li><span class='ee-k'>5:</span><span class='ee-v'>0</span></li></ul></li><li><label class='ee-shut'>data_type: double<input type='checkbox' class='ee-toggle'></label><ul><li><span class='ee-k'>type:</span><span class='ee-v'>PixelType</span></li><li><span class='ee-k'>precision:</span><span class='ee-v'>double</span></li></ul></li></ul></li></ul></li></ul></li></ul></div><script>function toggleHeader() {\n",
       "    const parent = this.parentElement;\n",
       "    parent.className = parent.className === \"ee-open\" ? \"ee-shut\" : \"ee-open\";\n",
       "}\n",
       "\n",
       "for (let c of document.getElementsByClassName(\"ee-toggle\")) {\n",
       "    c.onclick = toggleHeader;\n",
       "}</script></div>"
      ],
      "text/plain": [
       "<ee.image.Image at 0x2ccfddb8490>"
      ]
     },
     "execution_count": 11,
     "metadata": {},
     "output_type": "execute_result"
    }
   ],
   "source": [
    "water_map_fuzzy_outsu = ee.Image(water_imgs_fuzzy_outsu.collection.mode())\n",
    "water_map_fuzzy_outsu"
   ]
  },
  {
   "cell_type": "code",
   "execution_count": 15,
   "metadata": {},
   "outputs": [
    {
     "name": "stdout",
     "output_type": "stream",
     "text": [
      "Default extent and size: https://earthengine.googleapis.com/v1alpha/projects/earthengine-legacy/thumbnails/40080c55e84d7f43e7143a66372753df-61a052fbb028a6303d5b28959836e69b:getPixels\n"
     ]
    }
   ],
   "source": [
    "#Load an image.\n",
    "image = water_map_fuzzy_outsu #ee.Image('LANDSAT/LC08/C01/T1_TOA/LC08_044034_20140318')\n",
    "\n",
    "# https://github.com/giswqs/earthengine-py-notebooks/blob/master/Image/image_visualization.ipynb\n",
    "\n",
    "# Request a default thumbnail of the DEM with defined linear stretch.\n",
    "# Set masked pixels (ocean) to 1000 so they map as gray.\n",
    "thumbnail1 = image.getThumbURL({\n",
    "  'min': 0,\n",
    "  'max': 1,\n",
    "  'dimensions': 500,\n",
    "  'crs': 'EPSG:32718',\n",
    "  'palette': ['fae7b5','318ce7','E6E600','E9BD3A','ECB176','EFC2B3','F2F2F2'],\n",
    "  'region': region #ee.Geometry.Rectangle([-84.6, -55.9, -32.9, 15.7]),\n",
    "  #'region': ee.Geometry.Rectangle([103, 11.4, 107, 12.6 ])\n",
    "})\n",
    "print('Default extent and size:', thumbnail1)"
   ]
  },
  {
   "cell_type": "code",
   "execution_count": 12,
   "metadata": {},
   "outputs": [
    {
     "data": {
      "application/vnd.jupyter.widget-view+json": {
       "model_id": "002c1314faef4af489345d0acc3872b0",
       "version_major": 2,
       "version_minor": 0
      },
      "text/plain": [
       "Map(center=[-9.307404800192744, -76.00283550000388], controls=(WidgetControl(options=['position', 'transparent…"
      ]
     },
     "execution_count": 12,
     "metadata": {},
     "output_type": "execute_result"
    }
   ],
   "source": [
    "# Create a default map\n",
    "Map = geemap.Map()\n",
    "\n",
    "#Load an image.\n",
    "#image = water_map_fuzzy_outsu #ee.Image('LANDSAT/LC08/C01/T1_TOA/LC08_044034_20140318')\n",
    "#Create an NDWI image, define visualization parameters and display.\n",
    "#ndwi = image.normalizedDifference(['B3', 'B5'])\n",
    "ndwiViz = {'min': 0,\n",
    "           'max': 1,\n",
    "           'palette': ['F2F2F2','fae7b5','318ce7','E6E600','E9BD3A','ECB176','EFC2B3','F2F2F2','318ce7'],\n",
    "           }\n",
    "Map.centerObject(region,12)  #setCenter(-122.1899, 37.5010, 10) # San Francisco Bay\n",
    "Map.addLayer(water_map_fuzzy_outsu,\n",
    "             ndwiViz,\n",
    "            'HYDRAFloods',\n",
    "            shown=True,\n",
    "            opacity=0.7\n",
    "             )#, False)\n",
    "\n",
    "# Display the map\n",
    "Map"
   ]
  }
 ],
 "metadata": {
  "kernelspec": {
   "display_name": "flussenv",
   "language": "python",
   "name": "python3"
  },
  "language_info": {
   "codemirror_mode": {
    "name": "ipython",
    "version": 3
   },
   "file_extension": ".py",
   "mimetype": "text/x-python",
   "name": "python",
   "nbconvert_exporter": "python",
   "pygments_lexer": "ipython3",
   "version": "3.11.3"
  },
  "orig_nbformat": 4
 },
 "nbformat": 4,
 "nbformat_minor": 2
}
